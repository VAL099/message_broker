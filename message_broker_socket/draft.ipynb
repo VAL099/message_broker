{
 "cells": [
  {
   "cell_type": "code",
   "execution_count": 1,
   "metadata": {},
   "outputs": [
    {
     "name": "stdout",
     "output_type": "stream",
     "text": [
      "192.168.252.154\n"
     ]
    }
   ],
   "source": [
    "import socket\n",
    "\n",
    "print(socket.gethostbyname(socket.gethostname()))"
   ]
  },
  {
   "cell_type": "code",
   "execution_count": 1,
   "metadata": {},
   "outputs": [
    {
     "name": "stdout",
     "output_type": "stream",
     "text": [
      "\n"
     ]
    }
   ],
   "source": [
    "import handlers\n",
    "import json\n",
    "\n",
    "t1 = handlers.topicData()\n",
    "print()\n",
    "t2 = handlers.topicData()\n",
    "t3 = handlers.topicData()\n",
    "\n",
    "topics = {\n",
    "    'topic1': {'queue':t1.q, 'history':t1.h}, \n",
    "    'topic2': {'queue':t2.q, 'history':t2.h},  \n",
    "    'topic3': {'queue':t3.q, 'history':t3.h} }\n",
    "\n",
    "x = json.dumps(topics, indent = 4)\n",
    "\n",
    "f = open('storage.json', 'w')\n",
    "f.write(x)\n",
    "f.close()\n"
   ]
  }
 ],
 "metadata": {
  "kernelspec": {
   "display_name": "Python 3.10.6 64-bit",
   "language": "python",
   "name": "python3"
  },
  "language_info": {
   "codemirror_mode": {
    "name": "ipython",
    "version": 3
   },
   "file_extension": ".py",
   "mimetype": "text/x-python",
   "name": "python",
   "nbconvert_exporter": "python",
   "pygments_lexer": "ipython3",
   "version": "3.10.6"
  },
  "orig_nbformat": 4,
  "vscode": {
   "interpreter": {
    "hash": "28cd177719032b6c05cd0e05add2438a8bbcc7dcff15eb3c456cf2f9f2d06154"
   }
  }
 },
 "nbformat": 4,
 "nbformat_minor": 2
}
